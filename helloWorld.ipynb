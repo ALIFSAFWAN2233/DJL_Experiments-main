{
 "cells": [
  {
   "cell_type": "code",
   "execution_count": 1,
   "metadata": {
    "vscode": {
     "languageId": "java"
    }
   },
   "outputs": [
    {
     "name": "stdout",
     "output_type": "stream",
     "text": [
      "Hello World\n"
     ]
    }
   ],
   "source": [
    "System.out.println(\"Hello World\")"
   ]
  },
  {
   "cell_type": "code",
   "execution_count": 2,
   "metadata": {
    "vscode": {
     "languageId": "java"
    }
   },
   "outputs": [],
   "source": [
    "%maven ai.djl:api:0.31.0\n",
    "%maven ai.djl.onnxruntime:onnxruntime-engine:0.31.0\n",
    "%maven org.slf4j:slf4j-simple:1.7.36"
   ]
  },
  {
   "cell_type": "code",
   "execution_count": 36,
   "metadata": {
    "vscode": {
     "languageId": "java"
    }
   },
   "outputs": [],
   "source": [
    "import ai.djl.inference.*;\n",
    "import ai.djl.modality.*;\n",
    "import ai.djl.ndarray.*;\n",
    "import ai.djl.ndarray.types.*;\n",
    "import ai.djl.repository.zoo.*;\n",
    "import ai.djl.translate.*;\n",
    "import java.util.*;\n",
    "import java.nio.file.Path;\n",
    "import java.nio.file.Paths;"
   ]
  },
  {
   "cell_type": "code",
   "execution_count": 37,
   "metadata": {
    "vscode": {
     "languageId": "java"
    }
   },
   "outputs": [],
   "source": [
    "public static class IrisFlower {\n",
    "\n",
    "    public float sepalLength;\n",
    "    public float sepalWidth;\n",
    "    public float petalLength;\n",
    "    public float petalWidth;\n",
    "\n",
    "    public IrisFlower(float sepalLength, float sepalWidth, float petalLength, float petalWidth) {\n",
    "        this.sepalLength = sepalLength;\n",
    "        this.sepalWidth = sepalWidth;\n",
    "        this.petalLength = petalLength;\n",
    "        this.petalWidth = petalWidth;\n",
    "    }\n",
    "}"
   ]
  },
  {
   "cell_type": "code",
   "execution_count": 48,
   "metadata": {
    "vscode": {
     "languageId": "java"
    }
   },
   "outputs": [],
   "source": [
    " \n",
    "public static class MyTranslator implements NoBatchifyTranslator<IrisFlower, Classifications> {\n",
    "\n",
    "    private final List<String> synset;\n",
    "\n",
    "    public MyTranslator() {\n",
    "        // species name\n",
    "        synset = Arrays.asList(\"setosa\", \"versicolor\", \"virginica\");\n",
    "    }\n",
    "\n",
    "    @Override\n",
    "    public NDList processInput(TranslatorContext ctx, IrisFlower input) {\n",
    "        float[] data = {(float)input.sepalLength, (float)input.sepalWidth, (float)input.petalLength, (float)input.petalWidth};\n",
    "        NDArray array = ctx.getNDManager().create(data, new Shape(1, 4));\n",
    "        array = array.toType(DataType.FLOAT32, false); // Ensure it's float32\n",
    "        array.setName(\"float_input\"); // ✅ Set input name to match ONNX model\n",
    "        return new NDList(array);\n",
    "    }\n",
    "\n",
    "    @Override\n",
    "    public Classifications processOutput(TranslatorContext ctx, NDList list) {\n",
    "        float[] data = list.get(0).toFloatArray();\n",
    "        List<Double> probabilities = new ArrayList<>(data.length);\n",
    "        for (float f : data) {\n",
    "            probabilities.add((double) f);\n",
    "        }\n",
    "        return new Classifications(synset, probabilities);\n",
    "    }\n",
    "}"
   ]
  },
  {
   "cell_type": "code",
   "execution_count": 46,
   "metadata": {
    "vscode": {
     "languageId": "java"
    }
   },
   "outputs": [],
   "source": [
    "\n",
    "Path modelPath = Paths.get(\"logreg_iris.onnx\");\n",
    "Criteria<IrisFlower, Classifications> criteria = Criteria.builder()\n",
    "        .setTypes(IrisFlower.class, Classifications.class)\n",
    "        .optModelPath(modelPath)\n",
    "        .optTranslator(new MyTranslator())\n",
    "        .optEngine(\"OnnxRuntime\") // use OnnxRuntime engine by default\n",
    "        .build();\n",
    "ZooModel<IrisFlower, Classifications> model = criteria.loadModel();"
   ]
  },
  {
   "cell_type": "code",
   "execution_count": null,
   "metadata": {
    "vscode": {
     "languageId": "java"
    }
   },
   "outputs": [
    {
     "ename": "EvalException",
     "evalue": "java.lang.IllegalStateException: DataType mismatch, Required float, Actual int64",
     "output_type": "error",
     "traceback": [
      "\u001b[1m\u001b[31m---------------------------------------------------------------------------\u001b[0m",
      "\u001b[1m\u001b[31mai.djl.translate.TranslateException: java.lang.IllegalStateException: DataType mismatch, Required float, Actual int64\u001b[0m",
      "\u001b[1m\u001b[31m\tat ai.djl.inference.Predictor.batchPredict(Predictor.java:197)\u001b[0m",
      "\u001b[1m\u001b[31m\tat ai.djl.inference.Predictor.predict(Predictor.java:133)\u001b[0m",
      "\u001b[1m\u001b[31m\tat .(#50:1)\u001b[0m"
     ]
    }
   ],
   "source": [
    "Predictor<IrisFlower, Classifications> predictor = model.newPredictor();\n",
    "IrisFlower info = new IrisFlower(1.0f, 2.0f, 3.0f, 4.0f);\n",
    "NDList inputNDList = translator.processInput(new TranslatorContext(null), info);\n",
    "System.out.println(\"NDArray DataType: \" + inputNDList.get(0).getDataType());\n",
    "Classifications result = predictor.predict(info);\n",
    "System.out.println(result);"
   ]
  }
 ],
 "metadata": {
  "kernelspec": {
   "display_name": "Java",
   "language": "java",
   "name": "java"
  },
  "language_info": {
   "codemirror_mode": "java",
   "file_extension": ".jshell",
   "mimetype": "text/x-java-source",
   "name": "Java",
   "pygments_lexer": "java",
   "version": "21.0.3+9-LTS"
  }
 },
 "nbformat": 4,
 "nbformat_minor": 2
}
